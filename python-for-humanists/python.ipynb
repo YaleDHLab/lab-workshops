{
 "cells": [
  {
   "cell_type": "markdown",
   "metadata": {},
   "source": [
    "# Introduction to Python\n",
    "\n",
    "If you're interested in learning a programming language, Python is an excellent choice. It's an ideal language for beginners, as it's powerful, flexible, and equipped with packages that can help you accomplish nearly any task you might wish to solve using a computer. These are only some of the reasons Python recently became the most popular programming language in the world:\n",
    "\n",
    "<img src='./assets/python-popularity.jpg' style='margin: 10px auto; width: 400px'>\n",
    "\n",
    "This workshop will guide you through your first steps with Python. We will introduce some of the most important concepts in the language, and will learn how to use Python to accomplish some real life research tasks. Let's dive in!\n",
    "\n",
    "# What Can You Do With Python?\n",
    "\n",
    "Before spending time studying Python, you might reasonably ask yourself: What can I do with Python? The truth is that nearly anything that can be done with a computer can be done with Python. This includes:\n",
    "\n",
    "### Collect Data\n",
    "\n",
    "Perhaps you would like to study the influence the King James Bible had on Moby Dick, or you would like to study patterns in Napoleon's letter writing practices. All digital projects start with data collection, and Python is an awesome language for collecting or \"scraping\" data from the interwebs. \n",
    "\n",
    "<img style='width: 400px' src='./assets/scraping-data.gif'>\n",
    "<div style='width: 600px; margin: 10px auto; color: #888; font-family: arial; font-size: 12px;'>Selenium and BeautifulSoup are two of the most popular tools for collecting data from the web, and both are written in Python.</div>\n",
    "\n",
    "### Analyze Data\n",
    "\n",
    "Python is an awesome language for data analysis. If you wish to study patterns in large data collections, Python is an ideal language choice, as there are many tutorials and learning resources that will help you in your journey.\n",
    "\n",
    "<img style='width: 400px' src='./assets/rap-vocab.png'>\n",
    "<div style='width: 600px; margin: 10px auto; color: #888; font-family: arial; font-size: 12px;'>\"The Largest Vocabulary In Hip Hop\", an article on <a href='https://pudding.cool'>https://pudding.cool</a>, uses simple data analysis to identify the vocabulary size of various popular rappers, a task that one could achieve with Python.</div>\n",
    "\n",
    "### Machine Learning\n",
    "\n",
    "Python has become one of the most popular languages for conducting machine learning research. If you are interested in using machine learning or artificial intelligence in your work, Python is an excellent programming language choice. \n",
    "\n",
    "<img style='width:400px' src='./assets/reinforcement-learning.gif'>\n",
    "<div style='width: 600px; margin: 10px auto; color: #888; font-family: arial; font-size: 12px;'>Reinforcement learning algorithms&mdash;the engines that allow algorithms to play games like Chess, Go, or Super Mario Brothers&mdash;are one of many areas in machine learning one can study using Python.</div>\n",
    "\n",
    "### Make Gadgets\n",
    "\n",
    "There is also a large ecosystem of gadget makers who use the extrordinarily small and affordable Raspberry Pi microcomputer to build electronics devices like building your own Bluetooth enabled speaker or interactive art display.\n",
    "\n",
    "<img style='width:400px' src='./assets/treat-dispenser.png'>\n",
    "<div style='width: 600px; margin: 10px auto; color: #888; font-family: arial; font-size: 12px;'>Tech enthusiasts and cat lovers alike might wish to know that a <a href='https://www.adafruit.com/product/2885'>$5 Raspberry Pi computer</a> runs on Python and can be used to create homemade arcade games, security sytems, and cat treat dispensors such as the one pictured above.</div>\n",
    "\n",
    "### Create Websites\n",
    "\n",
    "The Python ecosystem is home to several popular frameworks for building websites, including Flask and Django. Major companies you know and love have use these frameworks in their websites. Flask is used by organizations including Reddit, Netflix, and AirBnB. Django is used by companies including YouTube, Instagram, and Spotify. \n",
    "\n",
    "<img style='width:400px' src='./assets/netflix.gif'>\n",
    "<div style='width: 600px; margin: 10px auto; color: #888; font-family: arial; font-size: 12px;'>Netflix.com is built on Flask, a popular, easy to use server framework written in Python.</div>"
   ]
  },
  {
   "cell_type": "markdown",
   "metadata": {},
   "source": [
    "# Getting Started\n",
    "\n",
    "### Variables\n",
    "\n",
    "Variables are the core building blocks of computer programming. A variable is a sequence of characters to which we assign meaning. We can think of them as words in a dictionary, except _we_ as programmers define the meaning of these words. Let's look at an example:"
   ]
  },
  {
   "cell_type": "code",
   "execution_count": null,
   "metadata": {},
   "outputs": [],
   "source": [
    "my_cat = 'cheshire'"
   ]
  },
  {
   "cell_type": "markdown",
   "metadata": {},
   "source": [
    "Here `my_cat` is the variable, and `'cheshire'` is the value assigned to that variable. In general, in Python, the thing on the left hand side of the equals sign is the variable, and the thing on the right hand side is that variable's value. See if you can determine the variable defined below:\n"
   ]
  },
  {
   "cell_type": "code",
   "execution_count": null,
   "metadata": {},
   "outputs": [],
   "source": [
    "my_hatter = 'mad'"
   ]
  },
  {
   "cell_type": "markdown",
   "metadata": {},
   "source": [
    "You should have said `my_hatter` is the variable and `'mad'` is the value assigned to that variable. "
   ]
  },
  {
   "cell_type": "markdown",
   "metadata": {},
   "source": [
    "Variables can be reassigned in Python. We might assign a value to a variable, then later assign a different value to that variable:"
   ]
  },
  {
   "cell_type": "code",
   "execution_count": null,
   "metadata": {},
   "outputs": [],
   "source": [
    "my_cat = 'cheshire'\n",
    "my_cat = 'grinning'"
   ]
  },
  {
   "cell_type": "markdown",
   "metadata": {},
   "source": [
    "Here `my_cat` is given an initial value `'cheshire'`, but is then given a new value `'grinning'`. Variables can also have nearly any name we like:"
   ]
  },
  {
   "cell_type": "code",
   "execution_count": null,
   "metadata": {},
   "outputs": [],
   "source": [
    "catepillar_question = 'Who are you?'"
   ]
  },
  {
   "cell_type": "markdown",
   "metadata": {},
   "source": [
    "See if you can define a variable of your own below:"
   ]
  },
  {
   "cell_type": "code",
   "execution_count": null,
   "metadata": {},
   "outputs": [],
   "source": [
    "# see if you can define a variable of your own here\n"
   ]
  },
  {
   "cell_type": "markdown",
   "metadata": {},
   "source": [
    "### Printing\n",
    "\n",
    "To check the value assigned to a variable, you can use the almighty `print()` function:"
   ]
  },
  {
   "cell_type": "code",
   "execution_count": null,
   "metadata": {},
   "outputs": [],
   "source": [
    "my_cat = 'cheshire'\n",
    "print(my_cat)"
   ]
  },
  {
   "cell_type": "markdown",
   "metadata": {},
   "source": [
    "The `print()` command is a type of function. We can recognize `print()` as a function because it has parentheses after the function variable name. In general **functions** are little pieces of code that take **arguments** as input and do something with those arguments. The `print()` function, for example, takes as its argument a variable like `my_cat`, then displays the value assigned to that variable. We will explore functions in greater depth below. For now we just want to note that `print()` is a function, which we can recognize by the presence of parentheses after the function's variable name."
   ]
  },
  {
   "cell_type": "markdown",
   "metadata": {},
   "source": [
    "See if you can use the `print()` function to tell what value is assigned to the following variable:"
   ]
  },
  {
   "cell_type": "code",
   "execution_count": null,
   "metadata": {},
   "outputs": [],
   "source": [
    "# see if you can display the value assigned to `my_motto` below\n",
    "my_motto = \"It's no use going back to yesterday\" + \" \" + \"because I was a different person then.\"\n"
   ]
  },
  {
   "cell_type": "markdown",
   "metadata": {},
   "source": [
    "### Introspection\n",
    "\n",
    "Just as we can use the `print()` function to see the value assigned to a variable, we can use the `dir()` function to see the kinds of things we can do with a variable. Brace yourself though, the `dir()` command displays lots of options!"
   ]
  },
  {
   "cell_type": "code",
   "execution_count": null,
   "metadata": {},
   "outputs": [],
   "source": [
    "title = 'Alice in Wonderland'\n",
    "dir(title)"
   ]
  },
  {
   "cell_type": "markdown",
   "metadata": {},
   "source": [
    "Running the `dir()` function returns a list of methods that are defined on the provided variable. In the example above, we can see that `title` has 50 or so methods defined. These **methods** are functions that are defined on a variable. We can call these functions just like we called the print function above. Let's try a few of these methods:"
   ]
  },
  {
   "cell_type": "code",
   "execution_count": null,
   "metadata": {},
   "outputs": [],
   "source": [
    "title.upper()"
   ]
  },
  {
   "cell_type": "code",
   "execution_count": null,
   "metadata": {},
   "outputs": [],
   "source": [
    "title.lower()"
   ]
  },
  {
   "cell_type": "markdown",
   "metadata": {},
   "source": [
    "We can see that the `upper()` method lets us uppercase our title, and the `lower()` method lets us lowercase our title. We will use some of these methods in just a moment. For now, we just want to remember that the very powerful `dir()` command tells us which methods can be called on variables."
   ]
  },
  {
   "cell_type": "markdown",
   "metadata": {},
   "source": [
    "See if you can use the `dir()` command to identify the methods available on the variable below:"
   ]
  },
  {
   "cell_type": "code",
   "execution_count": null,
   "metadata": {},
   "outputs": [],
   "source": [
    "# see if you can use the `dir()` command below to identify the methods available on the following variable\n",
    "song = '''\n",
    "  How doth the little crocodile\n",
    "  Improve his shining tail,\n",
    "  And pour the waters of the Nile\n",
    "  On every golden scale!\n",
    "'''\n"
   ]
  },
  {
   "cell_type": "markdown",
   "metadata": {},
   "source": [
    "### Strings\n",
    "\n",
    "All of the variables we have seen so far have been examples of \"strings\", the fancy term for text data. We know these variables are strings because their values are wrapped in quotations. Whenever our variable's value is wrapped in quotations, that variable is a string. \n",
    "\n",
    "Often times when we have string data, we need to process that data to find specific bits of interest, or to clean extraneous characters. Let's practice processing some strings below."
   ]
  },
  {
   "cell_type": "code",
   "execution_count": null,
   "metadata": {},
   "outputs": [],
   "source": [
    "opening = '''fAlice was beginning to get very tired of sitting by her sister on the bank,\n",
    "and of having nothing to do. Once or twice she had peeped into the book her\n",
    "sister was reading, but it had no pictures or conversations in it, ‘and what is\n",
    "the use of a book,’ thought fAlice ‘without pictures or conversation?’'''"
   ]
  },
  {
   "cell_type": "markdown",
   "metadata": {},
   "source": [
    "The data in the string above looks good, except \"Alice\" is prefaced with an \"f\" for some reason. Let's clean that up with the `replace()` method, which replaces all instances of the first argument with the second argument:"
   ]
  },
  {
   "cell_type": "code",
   "execution_count": null,
   "metadata": {},
   "outputs": [],
   "source": [
    "opening = opening.replace('fAlice', 'Alice')\n",
    "print(opening)"
   ]
  },
  {
   "cell_type": "markdown",
   "metadata": {},
   "source": [
    "Now suppose we only want to examine the first sentence in the `opening` variable. To accomplish this goal, we could use the `split()` function, which cuts a string into a list of strings each separated by the user-provided argument:"
   ]
  },
  {
   "cell_type": "code",
   "execution_count": null,
   "metadata": {},
   "outputs": [],
   "source": [
    "sentences = opening.split('.')\n",
    "print(sentences)"
   ]
  },
  {
   "cell_type": "markdown",
   "metadata": {},
   "source": [
    "We can notice that `sentences` starts and ends with **square braces** (aka squared off parentheses). These square braces are used to indicate that a variable contains a list of items. Let's dive into lists below."
   ]
  },
  {
   "cell_type": "markdown",
   "metadata": {},
   "source": [
    "### Lists\n",
    "\n",
    "A **list** is a variable that contains one or more items. Here is an example list:"
   ]
  },
  {
   "cell_type": "code",
   "execution_count": null,
   "metadata": {},
   "outputs": [],
   "source": [
    "facts = ['four times five is twelve', 'four times six is thirteen']"
   ]
  },
  {
   "cell_type": "markdown",
   "metadata": {},
   "source": [
    "Just like strings, lists have their own set of methods we can use. Let's practice the `append()` method, which adds an item to a list:"
   ]
  },
  {
   "cell_type": "code",
   "execution_count": null,
   "metadata": {},
   "outputs": [],
   "source": [
    "facts.append('and four times seven is–oh dear!')\n",
    "print(facts)"
   ]
  },
  {
   "cell_type": "markdown",
   "metadata": {},
   "source": [
    "See if you can add a new fact to our list of \"facts\" below:"
   ]
  },
  {
   "cell_type": "code",
   "execution_count": null,
   "metadata": {},
   "outputs": [],
   "source": [
    "# see if you can add a new fact to our list of \"facts\" here:\n"
   ]
  },
  {
   "cell_type": "markdown",
   "metadata": {},
   "source": [
    "### Reading Files\n",
    "\n",
    "Many Python programs need to read some files to load data you have collected into memory. Let's practice reading a file:"
   ]
  },
  {
   "cell_type": "code",
   "execution_count": null,
   "metadata": {},
   "outputs": [],
   "source": [
    "my_file = open('alice-in-wonderland.txt').read()"
   ]
  },
  {
   "cell_type": "markdown",
   "metadata": {},
   "source": [
    "You'll notice that the line above starts with `open()`. `open()` is an example of a **built in** function, which means it's a variable that comes predefined in all Python files. There are a small handful of these builtin functions, including the `print()` and `dir()` functions we saw above. For now we should note that `open()` returns a \"file handler\" that contains a `read()` method. Calling that `read()` method lets us read the text content of a file into memory."
   ]
  },
  {
   "cell_type": "markdown",
   "metadata": {},
   "source": [
    "See if you can download a plaintext file (i.e. a file with .txt extension) from a site like Project Gutenberg then read that file into memory below:"
   ]
  },
  {
   "cell_type": "code",
   "execution_count": null,
   "metadata": {},
   "outputs": [],
   "source": [
    "# try to load a file into memory here\n"
   ]
  },
  {
   "cell_type": "markdown",
   "metadata": {},
   "source": [
    "<h3 style='color: green'>Review #1</h3>\n",
    "\n",
    "By this point, we have covered many of the most important first steps with Python. But the hardest part of learning a programming language is learning to piece these commands together to accomplish goals. Let's start practicing this skill with the following exercise.\n",
    "\n",
    "See if you can read the file \"alice-ocr.txt\" into memory, then clean up the misspelled words in that file. You may need to investigate the file contents to determine which words are misspelled."
   ]
  },
  {
   "cell_type": "code",
   "execution_count": null,
   "metadata": {},
   "outputs": [],
   "source": [
    "# type your code here\n"
   ]
  },
  {
   "cell_type": "markdown",
   "metadata": {},
   "source": [
    "<img style='width: 100px' src='./assets/rabbit.jpg'>"
   ]
  },
  {
   "cell_type": "markdown",
   "metadata": {},
   "source": [
    "### Loops\n",
    "\n",
    "In our work above, we saw some examples of lists like the following:"
   ]
  },
  {
   "cell_type": "markdown",
   "metadata": {},
   "source": [
    "lines = [\n",
    "  'How cheerfully he seems to grin',\n",
    "  'How neatly spread his claws',\n",
    "  'And welcome little fishes in',\n",
    "  'With gently smiling jaws!'\n",
    "]"
   ]
  },
  {
   "cell_type": "markdown",
   "metadata": {},
   "source": [
    "Often times when we have lists, it is useful to examine each item in the list one by one. We can accomplish this goal with a \"for loop\":"
   ]
  },
  {
   "cell_type": "code",
   "execution_count": null,
   "metadata": {},
   "outputs": [],
   "source": [
    "for line in lines:\n",
    "  print(line)"
   ]
  },
  {
   "cell_type": "markdown",
   "metadata": {},
   "source": [
    "A **for loop** examines each item in a list from left to right (or top to bottom if you like). For loops are structured as follows:\n",
    "  \n",
    "```\n",
    "for variable_name in list_name:\n",
    "  actions_to_run_on_variable_name\n",
    "```\n",
    "\n",
    "Within the indented part of the loop (the part of the loop prefaced by whitespace), the value of `variable_name` will be equal to the current item in the list. Let's make this more concrete by discussing the loop we ran above:"
   ]
  },
  {
   "cell_type": "code",
   "execution_count": null,
   "metadata": {},
   "outputs": [],
   "source": [
    "for line in lines:\n",
    "  print(line)"
   ]
  },
  {
   "cell_type": "markdown",
   "metadata": {},
   "source": [
    "In the first pass through the loop, the variable `line` has value `'How cheerfully he seems to grin'`.   \n",
    "In the second pass through the loop, the variable `line` has value `'How neatly spread his claws'`.  \n",
    "And so on. Each time we move through the loop, `line` takes on the value of the next item in the list.\n",
    "\n",
    "As we move through the loop, we can perform operations on each item in the list. Let's practice with another list:"
   ]
  },
  {
   "cell_type": "code",
   "execution_count": null,
   "metadata": {},
   "outputs": [],
   "source": [
    "lines = [\n",
    "  'Beautiful Soup, so rich and green',\n",
    "  'Waiting in a hot tureen!',\n",
    "  'Who for such dainties would not stoop?',\n",
    "  'Soup of the evening, beautiful Soup',\n",
    "]\n",
    "\n",
    "for line in lines:\n",
    "  print(line.upper())"
   ]
  },
  {
   "cell_type": "markdown",
   "metadata": {},
   "source": [
    "### Modules\n",
    "\n",
    "One of the great things about the Python programming language is the fact that the Python ecosystem has many, many \"modules\" that will help expedite your work. A **module** is a collection of code that contains some variables or functions you can use. Some of these modules were authored by the creators and maintaners of the language itself, while others were written by other kind souls who have open sourced their code. Let's take a look at the `collections` module, a built-in module that is useful in lots of data processing tasks."
   ]
  },
  {
   "cell_type": "code",
   "execution_count": 5,
   "metadata": {},
   "outputs": [],
   "source": [
    "import collections\n",
    "\n",
    "word_counter = collections.Counter()"
   ]
  },
  {
   "cell_type": "markdown",
   "metadata": {},
   "source": [
    "The lines above show the general pattern we follow to use modules in Python. First we must `import` the module we wish to use. That `import` line makes it possible for us to use the variables and functions defined in the module in our own code.\n",
    "\n",
    "After importing the module, we can access the variables and functions defined within that module. For a full list of the variables and functions defined within the `collections` module, one can use the `dir` method we discussed earlier: `dir(collections)`. \n",
    "\n",
    "Now that we've imported the `collections` module and created a `Counter`, let's use that `Counter` to count some words:"
   ]
  },
  {
   "cell_type": "code",
   "execution_count": 6,
   "metadata": {},
   "outputs": [],
   "source": [
    "poem = '''\n",
    "  ‘The Queen of Hearts, she made some tarts,\n",
    "  All on a summer day:\n",
    "  The Knave of Hearts, he stole those tarts,\n",
    "  And took them quite away!’\n",
    "'''\n",
    "\n",
    "# split the poem into a list of words\n",
    "words = poem.split()\n",
    "\n",
    "for word in words:\n",
    "  word_counter[word] += 1"
   ]
  },
  {
   "cell_type": "markdown",
   "metadata": {},
   "source": [
    "The lines above loop over each word in the `words` list and then increment the count of each of those words by one. The resulting counts look like this:"
   ]
  },
  {
   "cell_type": "code",
   "execution_count": null,
   "metadata": {},
   "outputs": [],
   "source": [
    "print(word_counter)"
   ]
  },
  {
   "cell_type": "markdown",
   "metadata": {},
   "source": [
    "That's a little hard to read, but by using just one more module we can visualize our word counts:"
   ]
  },
  {
   "cell_type": "code",
   "execution_count": 7,
   "metadata": {},
   "outputs": [
    {
     "data": {
      "image/png": "[encoded data removed]",
      "text/plain": [
       "<Figure size 1440x720 with 1 Axes>"
      ]
     },
     "metadata": {},
     "output_type": "display_data"
    }
   ],
   "source": [
    "%matplotlib inline\n",
    "\n",
    "import helpers\n",
    "\n",
    "helpers.plot_counts(word_counter)"
   ]
  },
  {
   "cell_type": "markdown",
   "metadata": {},
   "source": [
    "<h3 style='color: green'>Review #2</h3>\n",
    "\n",
    "You've now made it quite far in your Python journey! Let's review what we discussed above with the following challenge.\n",
    "\n",
    "See if you can read in `jabberwocky.txt`, count the number of times each word occurs in that file, and plot those counts. As you work to complete this challenge, you may find it helpful to subdivide the task into smaller subtasks and complete those subtasks one by one..."
   ]
  },
  {
   "cell_type": "code",
   "execution_count": null,
   "metadata": {},
   "outputs": [],
   "source": [
    "# type your code here\n"
   ]
  },
  {
   "cell_type": "markdown",
   "metadata": {},
   "source": [
    "# Going Further\n",
    "\n",
    "Congratulations! You've covered a lot of ground with the Python programming language. From here, you should be prepared to take a deeper dive into the language. For next steps, we recommend browsing the lessons on the Programming Historian:\n",
    "\n",
    "<img src='./assets/programming-historian.png' style='width: 550px; margin: 10px auto'>\n",
    "\n",
    "In addition to those lessons, feel free to stop by our [open Office Hours](https://dhlab.yale.edu/resources/office-hours.html) to discuss a project you might want to pursue with Python!"
   ]
  }
 ],
 "metadata": {
  "kernelspec": {
   "display_name": "Python 3",
   "language": "python",
   "name": "python3"
  },
  "language_info": {
   "codemirror_mode": {
    "name": "ipython",
    "version": 3
   },
   "file_extension": ".py",
   "mimetype": "text/x-python",
   "name": "python",
   "nbconvert_exporter": "python",
   "pygments_lexer": "ipython3",
   "version": "3.5.3"
  }
 },
 "nbformat": 4,
 "nbformat_minor": 2
}
