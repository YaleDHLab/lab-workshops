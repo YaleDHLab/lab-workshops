{
 "cells": [
  {
   "cell_type": "markdown",
   "metadata": {},
   "source": [
    "# Next Steps with Python"
   ]
  },
  {
   "cell_type": "markdown",
   "metadata": {},
   "source": [
    "You've now worked through [first steps with Python](./first-steps-with-python.ipynb) and are ready to advance your Python chops. This notebook will help you accomplish this goal by taking you through a number of the next most important skills in Python programming:\n",
    "\n",
    "* Booleans\n",
    "* Conditionals\n",
    "* Dictionaries\n",
    "* Functions\n",
    "\n",
    "Let's begin!"
   ]
  },
  {
   "cell_type": "markdown",
   "metadata": {},
   "source": [
    "### Data Type: Booleans\n",
    "\n",
    "Just like strings and lists, booleans are another basic data type in Python. Booleans are arguably the simplest of all data types, because they can only be True or False. Let's see booleans in action:"
   ]
  },
  {
   "cell_type": "code",
   "execution_count": null,
   "metadata": {},
   "outputs": [],
   "source": [
    "soup_is_beautiful = True\n",
    "soup_is_bad = False"
   ]
  },
  {
   "cell_type": "markdown",
   "metadata": {},
   "source": [
    "In the examples above, we explicitly set a variable to True or False. Sometimes though, we need to check to see if something is true, such as the following example:"
   ]
  },
  {
   "cell_type": "code",
   "execution_count": null,
   "metadata": {},
   "outputs": [],
   "source": [
    "a = 7\n",
    "b = 9\n",
    "print(a > b)"
   ]
  },
  {
   "cell_type": "markdown",
   "metadata": {},
   "source": [
    "We can see above that checking whether `a` is greater than `b` returns `False`, because 7 is not greater than 9.\n",
    "\n",
    "Just as we can use greater than or less than syntax to check if something is True, we can also check to see if two items are equal, and those checks return a boolean as well:"
   ]
  },
  {
   "cell_type": "code",
   "execution_count": null,
   "metadata": {},
   "outputs": [],
   "source": [
    "a = 'soup'\n",
    "b = 'soup'\n",
    "\n",
    "print(a == b)"
   ]
  },
  {
   "cell_type": "markdown",
   "metadata": {},
   "source": [
    "Note that when we check for equality between two items, we must use two equals signs.\n",
    "\n",
    "To check your understanding of booleans, see if you can predict whether the following cells will display `True` or `False`:"
   ]
  },
  {
   "cell_type": "code",
   "execution_count": null,
   "metadata": {},
   "outputs": [],
   "source": [
    "a = 'soup'\n",
    "b = 'Soup'\n",
    "\n",
    "print(a == b)"
   ]
  },
  {
   "cell_type": "code",
   "execution_count": null,
   "metadata": {},
   "outputs": [],
   "source": [
    "print(a == b.lower())"
   ]
  },
  {
   "cell_type": "code",
   "execution_count": null,
   "metadata": {},
   "outputs": [],
   "source": [
    "print(b == 's' + 'o' + 'u' + 'p')"
   ]
  },
  {
   "cell_type": "markdown",
   "metadata": {},
   "source": [
    "### Conditionals\n",
    "\n",
    "Conditionals let us change the code we execute depending on the state of some elements in our program. In general, a Python conditional looks like this:\n",
    "\n",
    "```\n",
    "if True:\n",
    "  do_something()\n",
    "```\n",
    "\n",
    "Let's look at some examples:"
   ]
  },
  {
   "cell_type": "code",
   "execution_count": null,
   "metadata": {},
   "outputs": [],
   "source": [
    "if (9 > 7):\n",
    "  print('9 is in fact bigger than 7!')"
   ]
  },
  {
   "cell_type": "markdown",
   "metadata": {},
   "source": [
    "If clauses can also contain `else` clauses. An `else` clause will run if the `if` clause to which it's connected does not evaluate to True:"
   ]
  },
  {
   "cell_type": "code",
   "execution_count": null,
   "metadata": {},
   "outputs": [],
   "source": [
    "if (7 > 9):\n",
    "  print('7 is bigger than 9')\n",
    "else:\n",
    "  print('7 is not bigger than 9')"
   ]
  },
  {
   "cell_type": "markdown",
   "metadata": {},
   "source": [
    "We can chain if and else blocks together to form complex sequences:"
   ]
  },
  {
   "cell_type": "code",
   "execution_count": null,
   "metadata": {},
   "outputs": [],
   "source": [
    "a = True\n",
    "b = False\n",
    "\n",
    "if a:\n",
    "  print('a is true')\n",
    "else:\n",
    "  if b:\n",
    "    print('a is false and b is true')\n",
    "  else:\n",
    "    print('a is false and b is false')"
   ]
  },
  {
   "cell_type": "markdown",
   "metadata": {},
   "source": [
    "Try changing the values of `a` and `b` above to see what gets printed!\n",
    "\n",
    "Once you have a grasp on conditionals, try to predict what will print in the following example:"
   ]
  },
  {
   "cell_type": "code",
   "execution_count": null,
   "metadata": {},
   "outputs": [],
   "source": [
    "a = 'soup'\n",
    "b = 'Soup'\n",
    "\n",
    "if a == b:\n",
    "  print('a == b')\n",
    "else:\n",
    "  if a == b.lower():\n",
    "    print('a == b.lower()')\n",
    "  else:\n",
    "    print('a != b and a != b.lower()')"
   ]
  },
  {
   "cell_type": "markdown",
   "metadata": {},
   "source": [
    "When you have more than two states you're checking against (as in the code block above), a more common way to write the conditional would be to include an `elif` clause (shorthand for else-if) between the `if` and `else` clauses. Here is the same code, rewritten to include elif:"
   ]
  },
  {
   "cell_type": "code",
   "execution_count": null,
   "metadata": {},
   "outputs": [],
   "source": [
    "a = 'soup'\n",
    "b = 'Soup'\n",
    "\n",
    "if a == b:\n",
    "  print('a == b')\n",
    "elif a == b.lower():\n",
    "  print('a == b.lower()')\n",
    "else:\n",
    "  print('a != b and a != b.lower()')"
   ]
  },
  {
   "cell_type": "markdown",
   "metadata": {},
   "source": [
    "### Data Type: Dictionaries\n",
    "\n",
    "Dictionaries are another basic data type in Python, and are in fact among the most powerful of all basic data types because they allow us to express hierarchical data. Let's look at an example dictionary:"
   ]
  },
  {
   "cell_type": "code",
   "execution_count": null,
   "metadata": {},
   "outputs": [],
   "source": [
    "cheshire_cat = {'is_grinning': True}"
   ]
  },
  {
   "cell_type": "markdown",
   "metadata": {},
   "source": [
    "As we can see above, dictionaries start and end with \"squiggly braces\" (also called \"curly braces\"). Inside those squiggly braces, the value to the left of the colon is known as a **key** in the dictionary, and the value to the right is known as the **value** of that key. \n",
    "\n",
    "We can access the value assigned to some key with the following syntax:"
   ]
  },
  {
   "cell_type": "code",
   "execution_count": null,
   "metadata": {},
   "outputs": [],
   "source": [
    "cheshire_cat['is_grinning']"
   ]
  },
  {
   "cell_type": "markdown",
   "metadata": {},
   "source": [
    "In many cases, we might have a dictionary with multiple keys:"
   ]
  },
  {
   "cell_type": "code",
   "execution_count": null,
   "metadata": {},
   "outputs": [],
   "source": [
    "cheshire_cat = {'is_grinning': True, 'is_mischievous': True}"
   ]
  },
  {
   "cell_type": "markdown",
   "metadata": {},
   "source": [
    "We can check if a key exists in a dictionary with the `in` operator:"
   ]
  },
  {
   "cell_type": "code",
   "execution_count": null,
   "metadata": {},
   "outputs": [],
   "source": [
    "if 'is_grinning' in cheshire_cat:\n",
    "  print('The dictionary cheshire_cat in fact contains the key is_grinning')"
   ]
  },
  {
   "cell_type": "markdown",
   "metadata": {},
   "source": [
    "If instead we wish to obtain a list of all keys in the dictionary, we can do so using the `.keys()` method:"
   ]
  },
  {
   "cell_type": "code",
   "execution_count": null,
   "metadata": {},
   "outputs": [],
   "source": [
    "cheshire_cat.keys()"
   ]
  },
  {
   "cell_type": "markdown",
   "metadata": {},
   "source": [
    "Importantly, the values inside of a dictionary may themselves be dictionaries. Consider the following example:"
   ]
  },
  {
   "cell_type": "code",
   "execution_count": null,
   "metadata": {},
   "outputs": [],
   "source": [
    "cheshire_cat = {\n",
    "  'is_grinning': True, \n",
    "  'color': {\n",
    "    'fur': 'pink', \n",
    "    'eyes': 'yellow',\n",
    "  }\n",
    "}"
   ]
  },
  {
   "cell_type": "markdown",
   "metadata": {},
   "source": [
    "To access the color of the `fur` attribute inside the `cheshire_cat`, we can use the following series of keys:"
   ]
  },
  {
   "cell_type": "code",
   "execution_count": null,
   "metadata": {},
   "outputs": [],
   "source": [
    "fur_color = cheshire_cat['color']['fur']\n",
    "print(fur_color)"
   ]
  },
  {
   "cell_type": "markdown",
   "metadata": {},
   "source": [
    "To test your understanding of dictionaries, see if you can access the `eyes` attribute inside the `cheshire_cat` below:"
   ]
  },
  {
   "cell_type": "code",
   "execution_count": null,
   "metadata": {},
   "outputs": [],
   "source": [
    "# type your code here"
   ]
  },
  {
   "cell_type": "markdown",
   "metadata": {},
   "source": [
    "### Functions\n",
    "\n",
    "Functions allow us to rewrite blocks of code into a single discrete action and then run that action as often as we might like. This means that functions allow us to significantly improve the \"readability\" of our code, and to organize our code quite nicely. Let's see a sample function:"
   ]
  },
  {
   "cell_type": "code",
   "execution_count": null,
   "metadata": {},
   "outputs": [],
   "source": [
    "def add_one(some_number):\n",
    "  result = some_number + 1\n",
    "  return result"
   ]
  },
  {
   "cell_type": "markdown",
   "metadata": {},
   "source": [
    "As we can see above, function declarations start with `def` followed by the function name itself. One then specifies the \"arguments\" (also called \"parameters\") that the function takes in parentheses. Any arguments/parameters specified between the parentheses are inputs that the user will provide to the function—we'll see this in action in just a moment. For now, we should note that inside the function, we can interact with the arguments the user provided. After we're done interacting with those arguments, we can return some value, which can be saved outside the function for subsequent use.\n",
    "\n",
    "Let's make this more concrete with an example:"
   ]
  },
  {
   "cell_type": "code",
   "execution_count": null,
   "metadata": {},
   "outputs": [],
   "source": [
    "def add_one(some_number):\n",
    "  result = some_number + 1\n",
    "  return result\n",
    "\n",
    "output = add_one(7)\n",
    "print(output)"
   ]
  },
  {
   "cell_type": "markdown",
   "metadata": {},
   "source": [
    "When the lines above are evaluated, the value assigned to `some_number` inside the `add_one` function will be 7, as that is the value we pass into the `add_one` Therefore, `result` equals 7 + 1. We `return` that result, which assigns the value 8 to `output`, which we verify by printing output after the function runs.\n",
    "\n",
    "Let's compare the example above with the one below:"
   ]
  },
  {
   "cell_type": "code",
   "execution_count": null,
   "metadata": {},
   "outputs": [],
   "source": [
    "def add_one(some_number):\n",
    "  result = some_number + 1\n",
    "  return result\n",
    "\n",
    "output = add_one(23)\n",
    "print(output)"
   ]
  },
  {
   "cell_type": "markdown",
   "metadata": {},
   "source": [
    "Here we can see that providing a new value to the `add_one` function results in the same logic being applied to that input. We still get the input value + 1 provided as output from the function.\n",
    "\n",
    "Using what you learned about functions above, see if you can write a function that subtracts one from a user-provided input below:"
   ]
  },
  {
   "cell_type": "code",
   "execution_count": null,
   "metadata": {},
   "outputs": [],
   "source": [
    "# type your code here"
   ]
  },
  {
   "cell_type": "markdown",
   "metadata": {},
   "source": [
    "<h3 style='color: green'>Review #3</h3>\n",
    "\n",
    "Let's now test your understanding of the concepts in this notebook with the following challenge. \n",
    "\n",
    "In the example below, see if you can write a function that takes as input a single dictionary, and returns True if that dictionary contains more than 2 keys and False otherwise. Then test your function using the dictionaries in `authors`."
   ]
  },
  {
   "cell_type": "code",
   "execution_count": null,
   "metadata": {},
   "outputs": [],
   "source": [
    "authors = [\n",
    "  {\n",
    "    \"first_name\": \"William\",\n",
    "    \"last_name\": \"Shakespeare\",\n",
    "  },\n",
    "  {\n",
    "    \"first_name\": \"Agatha\",\n",
    "    \"last_name\": \"Christie\",\n",
    "  },\n",
    "  {\n",
    "    \"first_name\": \"Lewis\",\n",
    "    \"last_name\": \"Carroll\",\n",
    "    \"publications\": [\"Alice's Adventures in Wonderland\", \"A Syllabus of Plane Algebraic Geometry\"]\n",
    "  }\n",
    "]\n",
    "\n",
    "# write your function here"
   ]
  }
 ],
 "metadata": {
  "kernelspec": {
   "display_name": "Python 3",
   "language": "python",
   "name": "python3"
  },
  "language_info": {
   "codemirror_mode": {
    "name": "ipython",
    "version": 3
   },
   "file_extension": ".py",
   "mimetype": "text/x-python",
   "name": "python",
   "nbconvert_exporter": "python",
   "pygments_lexer": "ipython3",
   "version": "3.6.9"
  }
 },
 "nbformat": 4,
 "nbformat_minor": 2
}
